{
 "cells": [
  {
   "cell_type": "code",
   "execution_count": 10,
   "id": "00391e08-675d-4dfb-82fc-fec00018d6f7",
   "metadata": {},
   "outputs": [],
   "source": [
    "import pandas as pd\n",
    "from itertools import product\n",
    "from copy import deepcopy\n",
    "\n",
    "from ORBIT import ProjectManager, load_config\n",
    "from ORBIT.parametric import LinearModel\n"
   ]
  },
  {
   "cell_type": "code",
   "execution_count": 11,
   "id": "74e5e40c-1860-4479-a845-bdd3a5d2a140",
   "metadata": {},
   "outputs": [],
   "source": [
    "depths = [10, 25, 35, 45, 55, 60]\n",
    "turbines = [\"15mw\", \"17mw\"]\n",
    "distances = [10, 50, 100, 150, 200, 300, 400, 500, 600]"
   ]
  },
  {
   "cell_type": "code",
   "execution_count": 14,
   "id": "323152af-34cd-4128-a64c-73b10ef70f4c",
   "metadata": {},
   "outputs": [
    {
     "ename": "FileNotFoundError",
     "evalue": "[Errno 2] No such file or directory: 'C:/Users/rrolph/OneDrive - NREL/Projects/Gulf_of_Mexico/library/turbines/15mw/15m.yaml'",
     "output_type": "error",
     "traceback": [
      "\u001b[1;31m---------------------------------------------------------------------------\u001b[0m",
      "\u001b[1;31mFileNotFoundError\u001b[0m                         Traceback (most recent call last)",
      "\u001b[1;32m~\\AppData\\Local\\Temp\\1\\ipykernel_15068\\3900000970.py\u001b[0m in \u001b[0;36m<cell line: 28>\u001b[1;34m()\u001b[0m\n\u001b[0;32m     35\u001b[0m     \u001b[1;31m# sub_config = load_config(sub_config_fp)\u001b[0m\u001b[1;33m\u001b[0m\u001b[1;33m\u001b[0m\u001b[0m\n\u001b[0;32m     36\u001b[0m     \u001b[0mjacket_config\u001b[0m \u001b[1;33m=\u001b[0m \u001b[0mload_config\u001b[0m\u001b[1;33m(\u001b[0m\u001b[1;34mf\"{sub_config_fp}/jackets/{turbine}/{turbine}_{depth}m.yaml\"\u001b[0m\u001b[1;33m)\u001b[0m\u001b[1;33m\u001b[0m\u001b[1;33m\u001b[0m\u001b[0m\n\u001b[1;32m---> 37\u001b[1;33m     \u001b[0mturbine_config\u001b[0m \u001b[1;33m=\u001b[0m \u001b[0mload_config\u001b[0m\u001b[1;33m(\u001b[0m\u001b[1;34mf\"{sub_config_fp}/turbines/{turbine}/15m.yaml\"\u001b[0m\u001b[1;33m)\u001b[0m\u001b[1;33m\u001b[0m\u001b[1;33m\u001b[0m\u001b[0m\n\u001b[0m\u001b[0;32m     38\u001b[0m \u001b[1;33m\u001b[0m\u001b[0m\n\u001b[0;32m     39\u001b[0m     \u001b[1;31m# Merge new base and scenario specific configs\u001b[0m\u001b[1;33m\u001b[0m\u001b[1;33m\u001b[0m\u001b[0m\n",
      "\u001b[1;32m~\\Documents\\ORBIT_Jacket\\ORBIT\\ORBIT\\config.py\u001b[0m in \u001b[0;36mload_config\u001b[1;34m(filepath)\u001b[0m\n\u001b[0;32m     23\u001b[0m     \"\"\"\n\u001b[0;32m     24\u001b[0m \u001b[1;33m\u001b[0m\u001b[0m\n\u001b[1;32m---> 25\u001b[1;33m     \u001b[1;32mwith\u001b[0m \u001b[0mopen\u001b[0m\u001b[1;33m(\u001b[0m\u001b[0mfilepath\u001b[0m\u001b[1;33m,\u001b[0m \u001b[1;34m\"r\"\u001b[0m\u001b[1;33m)\u001b[0m \u001b[1;32mas\u001b[0m \u001b[0mf\u001b[0m\u001b[1;33m:\u001b[0m\u001b[1;33m\u001b[0m\u001b[1;33m\u001b[0m\u001b[0m\n\u001b[0m\u001b[0;32m     26\u001b[0m         \u001b[0mdata\u001b[0m \u001b[1;33m=\u001b[0m \u001b[0myaml\u001b[0m\u001b[1;33m.\u001b[0m\u001b[0mload\u001b[0m\u001b[1;33m(\u001b[0m\u001b[0mf\u001b[0m\u001b[1;33m,\u001b[0m \u001b[0mLoader\u001b[0m\u001b[1;33m=\u001b[0m\u001b[0mloader\u001b[0m\u001b[1;33m)\u001b[0m\u001b[1;33m\u001b[0m\u001b[1;33m\u001b[0m\u001b[0m\n\u001b[0;32m     27\u001b[0m \u001b[1;33m\u001b[0m\u001b[0m\n",
      "\u001b[1;31mFileNotFoundError\u001b[0m: [Errno 2] No such file or directory: 'C:/Users/rrolph/OneDrive - NREL/Projects/Gulf_of_Mexico/library/turbines/15mw/15m.yaml'"
     ]
    }
   ],
   "source": [
    "# Create or load a base config of constant inputs\n",
    "base_config = {\n",
    "    \n",
    "    # Constant Inputs\n",
    "    #num_legs = # optional, default 4.\n",
    "    #foundation_type = # optional str (piles , suction. default is piles)\n",
    "    ## Transition piece\n",
    "    #deck_space = # m2 (optional)\n",
    "    #mass = # t (optional)\n",
    "    #unit_cost = # USD (optional)\n",
    "    ## Jacket supply chain\n",
    "    #enabled = # (optional). default False\n",
    "    #substructure_delivery_time = # (optional) h. default 168\n",
    "    #num_substructures_delivered = # (optional) int. default 1.\n",
    "    #substructure_storage = # (optional) int, default inf.\n",
    "    \n",
    "    # Constant Modules\n",
    "    \"design_phases\": [], # We are providing the design from Mayank's jacket yaml file, not an ORBIT design module.\n",
    "    \"install_phases\": [\n",
    "        \"JacketInstallation\"\n",
    "    ]\n",
    "}\n",
    "\n",
    "# Create a list to hold results\n",
    "data = []\n",
    "\n",
    "# Loop through inputs / input files as necessary\n",
    "for depth, turbine, dts in product(depths, turbines, distances):\n",
    "\n",
    "    # Copy base config into new object so that you don't impact the base config with any dict operations\n",
    "    config = deepcopy(base_config)    \n",
    "\n",
    "    # Load scenario specific info        \n",
    "    sub_config_fp = f\"/c/Users/rrolph/OneDrive - NREL/Projects/Gulf_of_Mexico/library\"        \n",
    "    # sub_config = load_config(sub_config_fp)\n",
    "    jacket_config = load_config(f\"{sub_config_fp}/jackets/{turbine}/{turbine}_{depth}m.yaml\")\n",
    "    turbine_config = load_config(f\"{sub_config_fp}/turbines/{turbine}/15m.yaml\")\n",
    "\n",
    "    # Merge new base and scenario specific configs\n",
    "    config = ProjectManager.merge_dicts(sub_config, base_config)\n",
    "    # config = ProjectManager.merge_dict(jacket_config)\n",
    "    # config = ProjectManager.merge_dict(turbine_config)\n",
    "\n",
    "    # Run ORBIT, pass weather if necessary\n",
    "    project = ProjectManager(config)\n",
    "    project.run()\n",
    "\n",
    "    # Collect required inputs and results\n",
    "    res = {\n",
    "        \"site_depth\": project.config[\"site.depth\"],\n",
    "        \"distance_to_shore\": project.config[\"site.distance\"],\n",
    "        \"jacket_install\": project.capex_breakdown[\"Jacket Installation\"],\n",
    "    }\n",
    "\n",
    "    data.append(res)\n",
    "\n",
    "# Create DataFrame\n",
    "df = pd.DataFrame(data)"
   ]
  },
  {
   "cell_type": "code",
   "execution_count": 8,
   "id": "90cda6a1-f62f-4c4b-9423-8b56e28369e4",
   "metadata": {},
   "outputs": [
    {
     "data": {
      "text/plain": [
       "{'jacket': {'cost': 3320548.4489482953,\n",
       "  'deck_space': 241.99999999995177,\n",
       "  'diameter': 21.999999999997808,\n",
       "  'length': 15.0,\n",
       "  'mass': 558.3634131123547},\n",
       " 'transition_piece': {'deck_space': 25.0, 'mass': 100.0, 'unit_cost': 1000.0},\n",
       " 'turbine': '15mw_jacket_water_depth_10'}"
      ]
     },
     "execution_count": 8,
     "metadata": {},
     "output_type": "execute_result"
    }
   ],
   "source": [
    "jacket_config"
   ]
  },
  {
   "cell_type": "code",
   "execution_count": null,
   "id": "0b16ffe8-efba-4619-97c0-d919d43e0280",
   "metadata": {},
   "outputs": [],
   "source": [
    "# Create Model\n",
    "model = LinearModel(df, x=[\"site_depth\", \"distance_to_shore\"], y=\"jacket_install\")\n"
   ]
  },
  {
   "cell_type": "code",
   "execution_count": null,
   "id": "397e42ea-4732-4be8-8b03-5902ef3441a0",
   "metadata": {},
   "outputs": [],
   "source": [
    "model.as_string"
   ]
  },
  {
   "cell_type": "code",
   "execution_count": null,
   "id": "91b2d609-0f35-46bf-8849-fde856ccc3ba",
   "metadata": {},
   "outputs": [],
   "source": [
    "\"1231231 + 1.1123e6* site_depth \""
   ]
  },
  {
   "cell_type": "code",
   "execution_count": null,
   "id": "f65b87f0-7de6-4aa5-8e33-9a7aaf12d71d",
   "metadata": {},
   "outputs": [],
   "source": []
  }
 ],
 "metadata": {
  "kernelspec": {
   "display_name": "Python 3 (ipykernel)",
   "language": "python",
   "name": "python3"
  },
  "language_info": {
   "codemirror_mode": {
    "name": "ipython",
    "version": 3
   },
   "file_extension": ".py",
   "mimetype": "text/x-python",
   "name": "python",
   "nbconvert_exporter": "python",
   "pygments_lexer": "ipython3",
   "version": "3.9.13"
  }
 },
 "nbformat": 4,
 "nbformat_minor": 5
}
