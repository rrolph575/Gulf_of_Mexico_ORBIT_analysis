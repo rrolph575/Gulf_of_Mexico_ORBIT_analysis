{
 "cells": [
  {
   "cell_type": "code",
   "execution_count": 13,
   "id": "00391e08-675d-4dfb-82fc-fec00018d6f7",
   "metadata": {},
   "outputs": [],
   "source": [
    "import pandas as pd\n",
    "from itertools import product\n",
    "\n",
    "from ORBIT import load_config\n",
    "from ORBIT.parametric import LinearModel\n"
   ]
  },
  {
   "cell_type": "code",
   "execution_count": 17,
   "id": "74e5e40c-1860-4479-a845-bdd3a5d2a140",
   "metadata": {},
   "outputs": [],
   "source": [
    "depths = [10, 20, 30]\n",
    "turbines = [\"15mw\", \"17mw\"]\n",
    "distances = [10, 20, 30]"
   ]
  },
  {
   "cell_type": "code",
   "execution_count": 4,
   "id": "323152af-34cd-4128-a64c-73b10ef70f4c",
   "metadata": {},
   "outputs": [
    {
     "name": "stdout",
     "output_type": "stream",
     "text": [
      "10_15mw.csv\n",
      "10_17mw.csv\n",
      "20_15mw.csv\n",
      "20_17mw.csv\n",
      "30_15mw.csv\n",
      "30_17mw.csv\n"
     ]
    }
   ],
   "source": [
    "# Create or load a base config of constant inputs\n",
    "base_config = {\n",
    "    \n",
    "    # Constant Inputs\n",
    "    \n",
    "    # Constant Modules\n",
    "    \"design_phases\": [],\n",
    "    \"install_phases\": [\n",
    "        \"JacketInstallation\"\n",
    "    ]\n",
    "}\n",
    "\n",
    "# Create a list to hold results\n",
    "data = []\n",
    "\n",
    "# Loop through inputs / input files as necessary\n",
    "for depth, turbine, dts in product(depths, turbines, distances):\n",
    "\n",
    "    # Copy base config into new object so that you don't impact the base config with any dict operations\n",
    "    config = deepcopy(base_config)    \n",
    "\n",
    "    # Load scenario specific info        \n",
    "    sub_config_fp = f\"/path/to/sub_configs/{depth}_{turbine}.csv\"        \n",
    "    sub_config = load_config(sub_config_fp)\n",
    "    # jacket_config = load_config(f\"jackets/{turbine}/{depth}.yaml\")\n",
    "    # turbine_config = load_config(f\"turbines/{turbine}/{depth}.yaml\")\n",
    "\n",
    "    # Merge new base and scenario specific configs\n",
    "    config = ProjectManager.merge_dict(sub_config)\n",
    "    # config = ProjectManager.merge_dict(jacket_config)\n",
    "    # config = ProjectManager.merge_dict(turbine_config)\n",
    "\n",
    "    # Run ORBIT, pass weather if necessary\n",
    "    project = ProjectManager(config)\n",
    "    project.run()\n",
    "\n",
    "    # Collect required inputs and results\n",
    "    res = {\n",
    "        \"site_depth\": project.config[\"site.depth\"],\n",
    "        \"distance_to_shore\": project.config[\"site.distance\"],\n",
    "        \"jacket_install\": project.capex_breakdown[\"Jacket Installation\"],\n",
    "    }\n",
    "\n",
    "    data.append(res)\n",
    "\n",
    "# Create DataFrame\n",
    "df = pd.DataFrame(data)"
   ]
  },
  {
   "cell_type": "code",
   "execution_count": 9,
   "id": "90cda6a1-f62f-4c4b-9423-8b56e28369e4",
   "metadata": {},
   "outputs": [
    {
     "data": {
      "text/html": [
       "<div>\n",
       "<style scoped>\n",
       "    .dataframe tbody tr th:only-of-type {\n",
       "        vertical-align: middle;\n",
       "    }\n",
       "\n",
       "    .dataframe tbody tr th {\n",
       "        vertical-align: top;\n",
       "    }\n",
       "\n",
       "    .dataframe thead th {\n",
       "        text-align: right;\n",
       "    }\n",
       "</style>\n",
       "<table border=\"1\" class=\"dataframe\">\n",
       "  <thead>\n",
       "    <tr style=\"text-align: right;\">\n",
       "      <th></th>\n",
       "      <th>jacket_install</th>\n",
       "      <th>site_depth</th>\n",
       "    </tr>\n",
       "  </thead>\n",
       "  <tbody>\n",
       "    <tr>\n",
       "      <th>0</th>\n",
       "      <td>1000000.0</td>\n",
       "      <td>10</td>\n",
       "    </tr>\n",
       "    <tr>\n",
       "      <th>1</th>\n",
       "      <td>1000000.0</td>\n",
       "      <td>10</td>\n",
       "    </tr>\n",
       "  </tbody>\n",
       "</table>\n",
       "</div>"
      ],
      "text/plain": [
       "   jacket_install  site_depth\n",
       "0       1000000.0          10\n",
       "1       1000000.0          10"
      ]
     },
     "execution_count": 9,
     "metadata": {},
     "output_type": "execute_result"
    }
   ],
   "source": [
    "df"
   ]
  },
  {
   "cell_type": "code",
   "execution_count": 10,
   "id": "0b16ffe8-efba-4619-97c0-d919d43e0280",
   "metadata": {},
   "outputs": [],
   "source": [
    "# Create Model\n",
    "model = LinearModel(df, x=[\"site_depth\", \"distance_to_shore\"], y=\"jacket_install\")\n"
   ]
  },
  {
   "cell_type": "code",
   "execution_count": null,
   "id": "397e42ea-4732-4be8-8b03-5902ef3441a0",
   "metadata": {},
   "outputs": [],
   "source": [
    "model.as_string"
   ]
  },
  {
   "cell_type": "code",
   "execution_count": null,
   "id": "91b2d609-0f35-46bf-8849-fde856ccc3ba",
   "metadata": {},
   "outputs": [],
   "source": [
    "\"1231231 + 1.1123e6* site_depth \""
   ]
  },
  {
   "cell_type": "code",
   "execution_count": null,
   "id": "f65b87f0-7de6-4aa5-8e33-9a7aaf12d71d",
   "metadata": {},
   "outputs": [],
   "source": []
  }
 ],
 "metadata": {
  "kernelspec": {
   "display_name": "Python 3 (ipykernel)",
   "language": "python",
   "name": "python3"
  },
  "language_info": {
   "codemirror_mode": {
    "name": "ipython",
    "version": 3
   },
   "file_extension": ".py",
   "mimetype": "text/x-python",
   "name": "python",
   "nbconvert_exporter": "python",
   "pygments_lexer": "ipython3",
   "version": "3.9.13"
  }
 },
 "nbformat": 4,
 "nbformat_minor": 5
}
